{
  "cells": [
    {
      "cell_type": "markdown",
      "metadata": {
        "id": "view-in-github",
        "colab_type": "text"
      },
      "source": [
        "<a href=\"https://colab.research.google.com/github/joshuaidumijie/collections_of_python_projects/blob/main/notebook.ipynb\" target=\"_parent\"><img src=\"https://colab.research.google.com/assets/colab-badge.svg\" alt=\"Open In Colab\"/></a>"
      ]
    },
    {
      "metadata": {
        "dc": {
          "key": "4"
        },
        "deletable": false,
        "editable": false,
        "run_control": {
          "frozen": true
        },
        "tags": [
          "context"
        ],
        "id": "1cdGfLo14Nry"
      },
      "cell_type": "markdown",
      "source": [
        "## 1. The World Bank's international debt data\n",
        "<p>It's not that we humans only take debts to manage our necessities. A country may also take debt to manage its economy. For example, infrastructure spending is one costly ingredient required for a country's citizens to lead comfortable lives. <a href=\"https://www.worldbank.org\">The World Bank</a> is the organization that provides debt to countries.</p>\n",
        "<p>In this notebook, we are going to analyze international debt data collected by The World Bank. The dataset contains information about the amount of debt (in USD) owed by developing countries across several categories. We are going to find the answers to questions like: </p>\n",
        "<ul>\n",
        "<li>What is the total amount of debt that is owed by the countries listed in the dataset?</li>\n",
        "<li>Which country owns the maximum amount of debt and what does that amount look like?</li>\n",
        "<li>What is the average amount of debt owed by countries across different debt indicators?</li>\n",
        "</ul>\n",
        "<p><img src=\"https://assets.datacamp.com/production/project_754/img/image.jpg\" alt></p>\n",
        "<p>The first line of code connects us to the <code>international_debt</code> database where the table <code>international_debt</code> is residing. Let's first <code>SELECT</code> <em>all</em> of the columns from the <code>international_debt</code> table. Also, we'll limit the output to the first ten rows to keep the output clean.</p>"
      ]
    },
    {
      "metadata": {
        "dc": {
          "key": "4"
        },
        "tags": [
          "sample_code"
        ],
        "id": "bDFM_gM44NsG",
        "outputId": "596fb9a5-dc53-48ce-9402-03a3115fddcb"
      },
      "cell_type": "code",
      "source": [
        "%%sql\n",
        "postgresql:///international_debt\n",
        "SELECT *\n",
        "FROM international_debt\n",
        "LIMIT 10;\n",
        "    "
      ],
      "execution_count": null,
      "outputs": [
        {
          "output_type": "stream",
          "text": "10 rows affected.\n",
          "name": "stdout"
        },
        {
          "output_type": "execute_result",
          "execution_count": 13,
          "data": {
            "text/plain": "[('Afghanistan', 'AFG', 'Disbursements on external debt, long-term (DIS, current US$)', 'DT.DIS.DLXF.CD', Decimal('72894453.700000003')),\n ('Afghanistan', 'AFG', 'Interest payments on external debt, long-term (INT, current US$)', 'DT.INT.DLXF.CD', Decimal('53239440.100000001')),\n ('Afghanistan', 'AFG', 'PPG, bilateral (AMT, current US$)', 'DT.AMT.BLAT.CD', Decimal('61739336.899999999')),\n ('Afghanistan', 'AFG', 'PPG, bilateral (DIS, current US$)', 'DT.DIS.BLAT.CD', Decimal('49114729.399999999')),\n ('Afghanistan', 'AFG', 'PPG, bilateral (INT, current US$)', 'DT.INT.BLAT.CD', Decimal('39903620.100000001')),\n ('Afghanistan', 'AFG', 'PPG, multilateral (AMT, current US$)', 'DT.AMT.MLAT.CD', Decimal('39107845')),\n ('Afghanistan', 'AFG', 'PPG, multilateral (DIS, current US$)', 'DT.DIS.MLAT.CD', Decimal('23779724.300000001')),\n ('Afghanistan', 'AFG', 'PPG, multilateral (INT, current US$)', 'DT.INT.MLAT.CD', Decimal('13335820')),\n ('Afghanistan', 'AFG', 'PPG, official creditors (AMT, current US$)', 'DT.AMT.OFFT.CD', Decimal('100847181.900000006')),\n ('Afghanistan', 'AFG', 'PPG, official creditors (DIS, current US$)', 'DT.DIS.OFFT.CD', Decimal('72894453.700000003'))]",
            "text/html": "<table>\n    <tr>\n        <th>country_name</th>\n        <th>country_code</th>\n        <th>indicator_name</th>\n        <th>indicator_code</th>\n        <th>debt</th>\n    </tr>\n    <tr>\n        <td>Afghanistan</td>\n        <td>AFG</td>\n        <td>Disbursements on external debt, long-term (DIS, current US$)</td>\n        <td>DT.DIS.DLXF.CD</td>\n        <td>72894453.700000003</td>\n    </tr>\n    <tr>\n        <td>Afghanistan</td>\n        <td>AFG</td>\n        <td>Interest payments on external debt, long-term (INT, current US$)</td>\n        <td>DT.INT.DLXF.CD</td>\n        <td>53239440.100000001</td>\n    </tr>\n    <tr>\n        <td>Afghanistan</td>\n        <td>AFG</td>\n        <td>PPG, bilateral (AMT, current US$)</td>\n        <td>DT.AMT.BLAT.CD</td>\n        <td>61739336.899999999</td>\n    </tr>\n    <tr>\n        <td>Afghanistan</td>\n        <td>AFG</td>\n        <td>PPG, bilateral (DIS, current US$)</td>\n        <td>DT.DIS.BLAT.CD</td>\n        <td>49114729.399999999</td>\n    </tr>\n    <tr>\n        <td>Afghanistan</td>\n        <td>AFG</td>\n        <td>PPG, bilateral (INT, current US$)</td>\n        <td>DT.INT.BLAT.CD</td>\n        <td>39903620.100000001</td>\n    </tr>\n    <tr>\n        <td>Afghanistan</td>\n        <td>AFG</td>\n        <td>PPG, multilateral (AMT, current US$)</td>\n        <td>DT.AMT.MLAT.CD</td>\n        <td>39107845</td>\n    </tr>\n    <tr>\n        <td>Afghanistan</td>\n        <td>AFG</td>\n        <td>PPG, multilateral (DIS, current US$)</td>\n        <td>DT.DIS.MLAT.CD</td>\n        <td>23779724.300000001</td>\n    </tr>\n    <tr>\n        <td>Afghanistan</td>\n        <td>AFG</td>\n        <td>PPG, multilateral (INT, current US$)</td>\n        <td>DT.INT.MLAT.CD</td>\n        <td>13335820</td>\n    </tr>\n    <tr>\n        <td>Afghanistan</td>\n        <td>AFG</td>\n        <td>PPG, official creditors (AMT, current US$)</td>\n        <td>DT.AMT.OFFT.CD</td>\n        <td>100847181.900000006</td>\n    </tr>\n    <tr>\n        <td>Afghanistan</td>\n        <td>AFG</td>\n        <td>PPG, official creditors (DIS, current US$)</td>\n        <td>DT.DIS.OFFT.CD</td>\n        <td>72894453.700000003</td>\n    </tr>\n</table>"
          },
          "metadata": {}
        }
      ]
    },
    {
      "metadata": {
        "dc": {
          "key": "4"
        },
        "tags": [
          "tests"
        ],
        "hide": true,
        "id": "uMuI1k5m4NsL",
        "outputId": "90a790fe-8455-4acb-e58f-64ff3c7630fc"
      },
      "cell_type": "code",
      "source": [
        "%%nose\n",
        "# %%nose needs to be included at the beginning of every @tests cell\n",
        "\n",
        "last_output = _\n",
        "\n",
        "def test_output():\n",
        "    correct_result_string = '  country_name country_code                                     indicator_name  indicator_code                 debt\\n0  Afghanistan          AFG  Disbursements on external debt, long-term (DIS...  DT.DIS.DLXF.CD   72894453.700000003\\n1  Afghanistan          AFG  Interest payments on external debt, long-term ...  DT.INT.DLXF.CD   53239440.100000001\\n2  Afghanistan          AFG                  PPG, bilateral (AMT, current US$)  DT.AMT.BLAT.CD   61739336.899999999\\n3  Afghanistan          AFG                  PPG, bilateral (DIS, current US$)  DT.DIS.BLAT.CD   49114729.399999999\\n4  Afghanistan          AFG                  PPG, bilateral (INT, current US$)  DT.INT.BLAT.CD   39903620.100000001\\n5  Afghanistan          AFG               PPG, multilateral (AMT, current US$)  DT.AMT.MLAT.CD             39107845\\n6  Afghanistan          AFG               PPG, multilateral (DIS, current US$)  DT.DIS.MLAT.CD   23779724.300000001\\n7  Afghanistan          AFG               PPG, multilateral (INT, current US$)  DT.INT.MLAT.CD             13335820\\n8  Afghanistan          AFG         PPG, official creditors (AMT, current US$)  DT.AMT.OFFT.CD  100847181.900000006\\n9  Afghanistan          AFG         PPG, official creditors (DIS, current US$)  DT.DIS.OFFT.CD   72894453.700000003'\n",
        "    try:\n",
        "        assert last_output.DataFrame().to_string() == correct_result_string\n",
        "    except AttributeError:\n",
        "        assert False, \"Please ensure a SQL ResultSet is the output of the code cell.\"\n",
        "    except AssertionError:\n",
        "        assert False, \"The results of the query are incorrect. Please review the instructions and check the hint if necessary.\""
      ],
      "execution_count": null,
      "outputs": [
        {
          "output_type": "display_data",
          "data": {
            "application/json": "{\"success\": true, \"summary\": {\"tests\": 1, \"failures\": 0, \"errors\": 0}, \"tests\": [{\"name\": \"__main__.test_output\", \"success\": true, \"message\": \"\"}]}"
          },
          "metadata": {}
        },
        {
          "output_type": "execute_result",
          "execution_count": 14,
          "data": {
            "text/plain": "1/1 tests passed\n"
          },
          "metadata": {}
        }
      ]
    },
    {
      "metadata": {
        "dc": {
          "key": "12"
        },
        "deletable": false,
        "editable": false,
        "run_control": {
          "frozen": true
        },
        "tags": [
          "context"
        ],
        "id": "eXiU4IXU4NsP"
      },
      "cell_type": "markdown",
      "source": [
        "## 2. Finding the number of distinct countries\n",
        "<p>From the first ten rows, we can see the amount of debt owed by <em>Afghanistan</em> in the different debt indicators. But we do not know the number of different countries we have on the table. There are repetitions in the country names because a country is most likely to have debt in more than one debt indicator. </p>\n",
        "<p>Without a count of unique countries, we will not be able to perform our statistical analyses holistically. In this section, we are going to extract the number of unique countries present in the table. </p>"
      ]
    },
    {
      "metadata": {
        "dc": {
          "key": "12"
        },
        "id": "0R5hXjWX4NsQ",
        "outputId": "757c9d3e-bc8e-4a2f-d8ad-f350d233f0e5"
      },
      "cell_type": "code",
      "source": [
        "%%sql\n",
        "SELECT COUNT(*)\n",
        "FROM international_debt;\n"
      ],
      "execution_count": null,
      "outputs": [
        {
          "output_type": "stream",
          "text": " * postgresql:///international_debt\n1 rows affected.\n",
          "name": "stdout"
        },
        {
          "output_type": "execute_result",
          "execution_count": 17,
          "data": {
            "text/plain": "[(2357,)]",
            "text/html": "<table>\n    <tr>\n        <th>count</th>\n    </tr>\n    <tr>\n        <td>2357</td>\n    </tr>\n</table>"
          },
          "metadata": {}
        }
      ]
    },
    {
      "metadata": {
        "dc": {
          "key": "12"
        },
        "tags": [
          "sample_code"
        ],
        "id": "beV8SnQQ4NsS",
        "outputId": "264e2d2e-7bac-4994-e3d9-77d5c27a4283"
      },
      "cell_type": "code",
      "source": [
        "%%sql\n",
        "SELECT COUNT(DISTINCT country_name)\n",
        "AS total_distinct_countries\n",
        "FROM international_debt;"
      ],
      "execution_count": null,
      "outputs": [
        {
          "output_type": "stream",
          "text": " * postgresql:///international_debt\n1 rows affected.\n",
          "name": "stdout"
        },
        {
          "output_type": "execute_result",
          "execution_count": 34,
          "data": {
            "text/plain": "[(124,)]",
            "text/html": "<table>\n    <tr>\n        <th>total_distinct_countries</th>\n    </tr>\n    <tr>\n        <td>124</td>\n    </tr>\n</table>"
          },
          "metadata": {}
        }
      ]
    },
    {
      "metadata": {
        "dc": {
          "key": "12"
        },
        "tags": [
          "tests"
        ],
        "hide": true,
        "id": "Tj7aPfud4NsU",
        "outputId": "5c6a291c-4637-4cd3-e22f-0554334511c7"
      },
      "cell_type": "code",
      "source": [
        "%%nose\n",
        "# %%nose needs to be included at the beginning of every @tests cell\n",
        "\n",
        "last_output = _\n",
        "\n",
        "def test_output():\n",
        "    correct_result_string = '   total_distinct_countries\\n0                       124'\n",
        "    try:\n",
        "        assert last_output.DataFrame().to_string() == correct_result_string\n",
        "    except AttributeError:\n",
        "        assert False, \"Please ensure a SQL ResultSet is the output of the code cell.\"\n",
        "    except AssertionError:\n",
        "        assert False, \"The results of the query are incorrect. Please review the instructions and check the hint if necessary.\""
      ],
      "execution_count": null,
      "outputs": [
        {
          "output_type": "display_data",
          "data": {
            "application/json": "{\"success\": false, \"summary\": {\"tests\": 1, \"failures\": 1, \"errors\": 0}, \"tests\": [{\"name\": \"__main__.test_output\", \"success\": false, \"message\": \"AssertionError: The results of the query are incorrect. Please review the instructions and check the hint if necessary.\\n\"}]}"
          },
          "metadata": {}
        },
        {
          "output_type": "execute_result",
          "execution_count": 19,
          "data": {
            "text/plain": "0/1 tests passed; 1 failed\n========\n__main__.test_output\n========\nTraceback (most recent call last):\n  File \"<string>\", line 8, in test_output\nAssertionError\n\nDuring handling of the above exception, another exception occurred:\n\nTraceback (most recent call last):\n  File \"/usr/lib/python3.6/unittest/case.py\", line 59, in testPartExecutor\n    yield\n  File \"/usr/lib/python3.6/unittest/case.py\", line 605, in run\n    testMethod()\n  File \"/usr/local/lib/python3.6/dist-packages/nose/case.py\", line 198, in runTest\n    self.test(*self.arg)\n  File \"<string>\", line 12, in test_output\nAssertionError: The results of the query are incorrect. Please review the instructions and check the hint if necessary.\n\n"
          },
          "metadata": {}
        }
      ]
    },
    {
      "metadata": {
        "dc": {
          "key": "20"
        },
        "deletable": false,
        "editable": false,
        "run_control": {
          "frozen": true
        },
        "tags": [
          "context"
        ],
        "id": "swnzrOVS4NsX"
      },
      "cell_type": "markdown",
      "source": [
        "## 3. Finding out the distinct debt indicators\n",
        "<p>We can see there are a total of 124 countries present on the table. As we saw in the first section, there is a column called <code>indicator_name</code> that briefly specifies the purpose of taking the debt. Just beside that column, there is another column called <code>indicator_code</code> which symbolizes the category of these debts. Knowing about these various debt indicators will help us to understand the areas in which a country can possibly be indebted to. </p>"
      ]
    },
    {
      "metadata": {
        "dc": {
          "key": "20"
        },
        "tags": [
          "sample_code"
        ],
        "id": "-eOx7U3V4NsZ",
        "outputId": "bc5b8cf4-2f23-4dd1-bc4e-da4a6e7104fc"
      },
      "cell_type": "code",
      "source": [
        "%%sql\n",
        "SELECT COUNT(DISTINCT indicator_name)\n",
        "AS distinct_debt_indicators\n",
        "FROM international_debt\n",
        "ORDER BY distinct_debt_indicators;\n"
      ],
      "execution_count": null,
      "outputs": [
        {
          "output_type": "stream",
          "text": " * postgresql:///international_debt\n1 rows affected.\n",
          "name": "stdout"
        },
        {
          "output_type": "execute_result",
          "execution_count": 35,
          "data": {
            "text/plain": "[(25,)]",
            "text/html": "<table>\n    <tr>\n        <th>distinct_debt_indicators</th>\n    </tr>\n    <tr>\n        <td>25</td>\n    </tr>\n</table>"
          },
          "metadata": {}
        }
      ]
    },
    {
      "metadata": {
        "dc": {
          "key": "20"
        },
        "tags": [
          "tests"
        ],
        "hide": true,
        "id": "bPLbxOSV4Nsc",
        "outputId": "1abd9040-72d4-474a-d5f8-b0cd58de9395"
      },
      "cell_type": "code",
      "source": [
        "%%nose\n",
        "# %%nose needs to be included at the beginning of every @tests cell\n",
        "\n",
        "last_output = _\n",
        "\n",
        "def test_output():\n",
        "    correct_result_string = '   distinct_debt_indicators\\n0            DT.AMT.BLAT.CD\\n1            DT.AMT.DLXF.CD\\n2            DT.AMT.DPNG.CD\\n3            DT.AMT.MLAT.CD\\n4            DT.AMT.OFFT.CD\\n5            DT.AMT.PBND.CD\\n6            DT.AMT.PCBK.CD\\n7            DT.AMT.PROP.CD\\n8            DT.AMT.PRVT.CD\\n9            DT.DIS.BLAT.CD\\n10           DT.DIS.DLXF.CD\\n11           DT.DIS.MLAT.CD\\n12           DT.DIS.OFFT.CD\\n13           DT.DIS.PCBK.CD\\n14           DT.DIS.PROP.CD\\n15           DT.DIS.PRVT.CD\\n16           DT.INT.BLAT.CD\\n17           DT.INT.DLXF.CD\\n18           DT.INT.DPNG.CD\\n19           DT.INT.MLAT.CD\\n20           DT.INT.OFFT.CD\\n21           DT.INT.PBND.CD\\n22           DT.INT.PCBK.CD\\n23           DT.INT.PROP.CD\\n24           DT.INT.PRVT.CD'\n",
        "    try:    \n",
        "        assert last_output.DataFrame().to_string() == correct_result_string\n",
        "    except AttributeError:\n",
        "        assert False, \"Please ensure a SQL ResultSet is the output of the code cell.\"\n",
        "    except AssertionError:\n",
        "        assert False, \"The results of the query are incorrect. Please review the instructions and check the hint if necessary.\""
      ],
      "execution_count": null,
      "outputs": [
        {
          "output_type": "display_data",
          "data": {
            "application/json": "{\"success\": false, \"summary\": {\"tests\": 1, \"failures\": 1, \"errors\": 0}, \"tests\": [{\"name\": \"__main__.test_output\", \"success\": false, \"message\": \"AssertionError: The results of the query are incorrect. Please review the instructions and check the hint if necessary.\\n\"}]}"
          },
          "metadata": {}
        },
        {
          "output_type": "execute_result",
          "execution_count": 21,
          "data": {
            "text/plain": "0/1 tests passed; 1 failed\n========\n__main__.test_output\n========\nTraceback (most recent call last):\n  File \"<string>\", line 8, in test_output\nAssertionError\n\nDuring handling of the above exception, another exception occurred:\n\nTraceback (most recent call last):\n  File \"/usr/lib/python3.6/unittest/case.py\", line 59, in testPartExecutor\n    yield\n  File \"/usr/lib/python3.6/unittest/case.py\", line 605, in run\n    testMethod()\n  File \"/usr/local/lib/python3.6/dist-packages/nose/case.py\", line 198, in runTest\n    self.test(*self.arg)\n  File \"<string>\", line 12, in test_output\nAssertionError: The results of the query are incorrect. Please review the instructions and check the hint if necessary.\n\n"
          },
          "metadata": {}
        }
      ]
    },
    {
      "metadata": {
        "dc": {
          "key": "28"
        },
        "deletable": false,
        "editable": false,
        "run_control": {
          "frozen": true
        },
        "tags": [
          "context"
        ],
        "id": "C9MUZZyk4Nse"
      },
      "cell_type": "markdown",
      "source": [
        "## 4. Totaling the amount of debt owed by the countries\n",
        "<p>As mentioned earlier, the financial debt of a particular country represents its economic state. But if we were to project this on an overall global scale, how will we approach it?</p>\n",
        "<p>Let's switch gears from the debt indicators now and find out the total amount of debt (in USD) that is owed by the different countries. This will give us a sense of how the overall economy of the entire world is holding up.</p>"
      ]
    },
    {
      "metadata": {
        "dc": {
          "key": "28"
        },
        "tags": [
          "sample_code"
        ],
        "id": "ObJ90Uyg4Nsg",
        "outputId": "66c8321e-8edb-47cd-9472-fdf369a92c4a"
      },
      "cell_type": "code",
      "source": [
        "%%sql\n",
        "SELECT\n",
        "    ROUND( SUM(debt)/1000000,2) AS total_debt\n",
        "FROM international_debt;\n"
      ],
      "execution_count": null,
      "outputs": [
        {
          "output_type": "stream",
          "text": " * postgresql:///international_debt\n1 rows affected.\n",
          "name": "stdout"
        },
        {
          "output_type": "execute_result",
          "execution_count": 22,
          "data": {
            "text/plain": "[(Decimal('3079734.49'),)]",
            "text/html": "<table>\n    <tr>\n        <th>total_debt</th>\n    </tr>\n    <tr>\n        <td>3079734.49</td>\n    </tr>\n</table>"
          },
          "metadata": {}
        }
      ]
    },
    {
      "metadata": {
        "dc": {
          "key": "28"
        },
        "tags": [
          "tests"
        ],
        "hide": true,
        "id": "DwdSJTY34Nsh",
        "outputId": "9ec4a748-5931-4b2d-e181-74b1813cd710"
      },
      "cell_type": "code",
      "source": [
        "%%nose\n",
        "# %%nose needs to be included at the beginning of every @tests cell\n",
        "\n",
        "last_output = _\n",
        "\n",
        "def test_output():\n",
        "    correct_result_string = '   total_debt\\n0  3079734.49'\n",
        "    try:\n",
        "        assert last_output.DataFrame().to_string() == correct_result_string\n",
        "    except AttributeError:\n",
        "        assert False, \"Please ensure a SQL ResultSet is the output of the code cell.\"\n",
        "    except AssertionError:\n",
        "        assert False, \"The results of the query are incorrect. Please review the instructions and check the hint if necessary.\""
      ],
      "execution_count": null,
      "outputs": [
        {
          "output_type": "display_data",
          "data": {
            "application/json": "{\"success\": true, \"summary\": {\"tests\": 1, \"failures\": 0, \"errors\": 0}, \"tests\": [{\"name\": \"__main__.test_output\", \"success\": true, \"message\": \"\"}]}"
          },
          "metadata": {}
        },
        {
          "output_type": "execute_result",
          "execution_count": 23,
          "data": {
            "text/plain": "1/1 tests passed\n"
          },
          "metadata": {}
        }
      ]
    },
    {
      "metadata": {
        "dc": {
          "key": "36"
        },
        "deletable": false,
        "editable": false,
        "run_control": {
          "frozen": true
        },
        "tags": [
          "context"
        ],
        "id": "bHsGOy9B4Nsj"
      },
      "cell_type": "markdown",
      "source": [
        "## 5. Country with the highest debt\n",
        "<p>\"Human beings cannot comprehend very large or very small numbers. It would be useful for us to acknowledge that fact.\" - <a href=\"https://en.wikipedia.org/wiki/Daniel_Kahneman\">Daniel Kahneman</a>. That is more than <em>3 million <strong>million</strong></em> USD, an amount which is really hard for us to fathom. </p>\n",
        "<p>Now that we have the exact total of the amounts of debt owed by several countries, let's now find out the country that owns the highest amount of debt along with the amount. <strong>Note</strong> that this debt is the sum of different debts owed by a country across several categories. This will help to understand more about the country in terms of its socio-economic scenarios. We can also find out the category in which the country owns its highest debt. But we will leave that for now. </p>"
      ]
    },
    {
      "metadata": {
        "dc": {
          "key": "36"
        },
        "tags": [
          "sample_code"
        ],
        "id": "vTirPUpx4Nsk",
        "outputId": "38b7e755-9828-4789-d557-10a087b1981d"
      },
      "cell_type": "code",
      "source": [
        "%%sql\n",
        "SELECT \n",
        "    country_name, \n",
        "    SUM(debt) AS total_debt\n",
        "FROM international_debt\n",
        "GROUP BY country_name\n",
        "ORDER BY total_debt DESC \n",
        "LIMIT 1;"
      ],
      "execution_count": null,
      "outputs": [
        {
          "output_type": "stream",
          "text": " * postgresql:///international_debt\n1 rows affected.\n",
          "name": "stdout"
        },
        {
          "output_type": "execute_result",
          "execution_count": 24,
          "data": {
            "text/plain": "[('China', Decimal('285793494734.200001568'))]",
            "text/html": "<table>\n    <tr>\n        <th>country_name</th>\n        <th>total_debt</th>\n    </tr>\n    <tr>\n        <td>China</td>\n        <td>285793494734.200001568</td>\n    </tr>\n</table>"
          },
          "metadata": {}
        }
      ]
    },
    {
      "metadata": {
        "dc": {
          "key": "36"
        },
        "tags": [
          "tests"
        ],
        "hide": true,
        "id": "pxDamCuy4Nsl",
        "outputId": "e33b2f1b-1d4e-4bec-e60b-cb96b7720b4e"
      },
      "cell_type": "code",
      "source": [
        "%%nose\n",
        "# %%nose needs to be included at the beginning of every @tests cell\n",
        "\n",
        "last_output = _\n",
        "\n",
        "def test_output():\n",
        "    correct_result_string = '  country_name              total_debt\\n0        China  285793494734.200001568'\n",
        "    try:\n",
        "        assert last_output.DataFrame().to_string() == correct_result_string\n",
        "    except AttributeError:\n",
        "        assert False, \"Please ensure a SQL ResultSet is the output of the code cell.\"\n",
        "    except AssertionError:\n",
        "        assert False, \"The results of the query are incorrect. Please review the instructions and check the hint if necessary.\""
      ],
      "execution_count": null,
      "outputs": [
        {
          "output_type": "display_data",
          "data": {
            "application/json": "{\"success\": true, \"summary\": {\"tests\": 1, \"failures\": 0, \"errors\": 0}, \"tests\": [{\"name\": \"__main__.test_output\", \"success\": true, \"message\": \"\"}]}"
          },
          "metadata": {}
        },
        {
          "output_type": "execute_result",
          "execution_count": 25,
          "data": {
            "text/plain": "1/1 tests passed\n"
          },
          "metadata": {}
        }
      ]
    },
    {
      "metadata": {
        "dc": {
          "key": "44"
        },
        "deletable": false,
        "editable": false,
        "run_control": {
          "frozen": true
        },
        "tags": [
          "context"
        ],
        "id": "hwm6ABvi4Nsn"
      },
      "cell_type": "markdown",
      "source": [
        "## 6. Average amount of debt across indicators\n",
        "<p>So, it was <em>China</em>. A more in-depth breakdown of China's debts can be found <a href=\"https://datatopics.worldbank.org/debt/ids/country/CHN\">here</a>. </p>\n",
        "<p>We now have a brief overview of the dataset and a few of its summary statistics. We already have an idea of the different debt indicators in which the countries owe their debts. We can dig even further to find out on an average how much debt a country owes? This will give us a better sense of the distribution of the amount of debt across different indicators.</p>"
      ]
    },
    {
      "metadata": {
        "dc": {
          "key": "44"
        },
        "tags": [
          "sample_code"
        ],
        "id": "myUnbXdX4Nso",
        "outputId": "b515e9a0-2175-46d8-c20e-0a25cba2f908"
      },
      "cell_type": "code",
      "source": [
        "%%sql\n",
        "SELECT \n",
        "    indicator_code AS debt_indicator,\n",
        "    indicator_name,\n",
        "    AVG(debt) AS average_debt\n",
        "FROM international_debt\n",
        "GROUP BY  debt_indicator, indicator_name\n",
        "ORDER BY average_debt DESC\n",
        "LIMIT 10;"
      ],
      "execution_count": null,
      "outputs": [
        {
          "output_type": "stream",
          "text": " * postgresql:///international_debt\n10 rows affected.\n",
          "name": "stdout"
        },
        {
          "output_type": "execute_result",
          "execution_count": 36,
          "data": {
            "text/plain": "[('DT.AMT.DLXF.CD', 'Principal repayments on external debt, long-term (AMT, current US$)', Decimal('5904868401.499193612')),\n ('DT.AMT.DPNG.CD', 'Principal repayments on external debt, private nonguaranteed (PNG) (AMT, current US$)', Decimal('5161194333.812658349')),\n ('DT.DIS.DLXF.CD', 'Disbursements on external debt, long-term (DIS, current US$)', Decimal('2152041216.890243888')),\n ('DT.DIS.OFFT.CD', 'PPG, official creditors (DIS, current US$)', Decimal('1958983452.859836046')),\n ('DT.AMT.PRVT.CD', 'PPG, private creditors (AMT, current US$)', Decimal('1803694101.963265321')),\n ('DT.INT.DLXF.CD', 'Interest payments on external debt, long-term (INT, current US$)', Decimal('1644024067.650806481')),\n ('DT.DIS.BLAT.CD', 'PPG, bilateral (DIS, current US$)', Decimal('1223139290.398230108')),\n ('DT.INT.DPNG.CD', 'Interest payments on external debt, private nonguaranteed (PNG) (INT, current US$)', Decimal('1220410844.421518983')),\n ('DT.AMT.OFFT.CD', 'PPG, official creditors (AMT, current US$)', Decimal('1191187963.083064523')),\n ('DT.AMT.PBND.CD', 'PPG, bonds (AMT, current US$)', Decimal('1082623947.653623188'))]",
            "text/html": "<table>\n    <tr>\n        <th>debt_indicator</th>\n        <th>indicator_name</th>\n        <th>average_debt</th>\n    </tr>\n    <tr>\n        <td>DT.AMT.DLXF.CD</td>\n        <td>Principal repayments on external debt, long-term (AMT, current US$)</td>\n        <td>5904868401.499193612</td>\n    </tr>\n    <tr>\n        <td>DT.AMT.DPNG.CD</td>\n        <td>Principal repayments on external debt, private nonguaranteed (PNG) (AMT, current US$)</td>\n        <td>5161194333.812658349</td>\n    </tr>\n    <tr>\n        <td>DT.DIS.DLXF.CD</td>\n        <td>Disbursements on external debt, long-term (DIS, current US$)</td>\n        <td>2152041216.890243888</td>\n    </tr>\n    <tr>\n        <td>DT.DIS.OFFT.CD</td>\n        <td>PPG, official creditors (DIS, current US$)</td>\n        <td>1958983452.859836046</td>\n    </tr>\n    <tr>\n        <td>DT.AMT.PRVT.CD</td>\n        <td>PPG, private creditors (AMT, current US$)</td>\n        <td>1803694101.963265321</td>\n    </tr>\n    <tr>\n        <td>DT.INT.DLXF.CD</td>\n        <td>Interest payments on external debt, long-term (INT, current US$)</td>\n        <td>1644024067.650806481</td>\n    </tr>\n    <tr>\n        <td>DT.DIS.BLAT.CD</td>\n        <td>PPG, bilateral (DIS, current US$)</td>\n        <td>1223139290.398230108</td>\n    </tr>\n    <tr>\n        <td>DT.INT.DPNG.CD</td>\n        <td>Interest payments on external debt, private nonguaranteed (PNG) (INT, current US$)</td>\n        <td>1220410844.421518983</td>\n    </tr>\n    <tr>\n        <td>DT.AMT.OFFT.CD</td>\n        <td>PPG, official creditors (AMT, current US$)</td>\n        <td>1191187963.083064523</td>\n    </tr>\n    <tr>\n        <td>DT.AMT.PBND.CD</td>\n        <td>PPG, bonds (AMT, current US$)</td>\n        <td>1082623947.653623188</td>\n    </tr>\n</table>"
          },
          "metadata": {}
        }
      ]
    },
    {
      "metadata": {
        "dc": {
          "key": "44"
        },
        "tags": [
          "tests"
        ],
        "hide": true,
        "id": "xTSRk5T44Nsp",
        "outputId": "6daf91bb-e182-4350-e0ba-72c9564b7abb"
      },
      "cell_type": "code",
      "source": [
        "%%nose\n",
        "# %%nose needs to be included at the beginning of every @tests cell\n",
        "\n",
        "last_output = _\n",
        "\n",
        "def test_output():\n",
        "    correct_result_string = '   debt_indicator                                     indicator_name          average_debt\\n0  DT.AMT.DLXF.CD  Principal repayments on external debt, long-te...  5904868401.499193612\\n1  DT.AMT.DPNG.CD  Principal repayments on external debt, private...  5161194333.812658349\\n2  DT.DIS.DLXF.CD  Disbursements on external debt, long-term (DIS...  2152041216.890243888\\n3  DT.DIS.OFFT.CD         PPG, official creditors (DIS, current US$)  1958983452.859836046\\n4  DT.AMT.PRVT.CD          PPG, private creditors (AMT, current US$)  1803694101.963265321\\n5  DT.INT.DLXF.CD  Interest payments on external debt, long-term ...  1644024067.650806481\\n6  DT.DIS.BLAT.CD                  PPG, bilateral (DIS, current US$)  1223139290.398230108\\n7  DT.INT.DPNG.CD  Interest payments on external debt, private no...  1220410844.421518983\\n8  DT.AMT.OFFT.CD         PPG, official creditors (AMT, current US$)  1191187963.083064523\\n9  DT.AMT.PBND.CD                      PPG, bonds (AMT, current US$)  1082623947.653623188'\n",
        "    try:\n",
        "        assert last_output.DataFrame().to_string() == correct_result_string\n",
        "    except AttributeError:\n",
        "        assert False, \"Please ensure a SQL ResultSet is the output of the code cell.\"\n",
        "    except AssertionError:\n",
        "        assert False, \"The results of the query are incorrect. Please review the instructions and check the hint if necessary.\""
      ],
      "execution_count": null,
      "outputs": [
        {
          "output_type": "display_data",
          "data": {
            "application/json": "{\"success\": false, \"summary\": {\"tests\": 1, \"failures\": 1, \"errors\": 0}, \"tests\": [{\"name\": \"__main__.test_output\", \"success\": false, \"message\": \"AssertionError: The results of the query are incorrect. Please review the instructions and check the hint if necessary.\\n\"}]}"
          },
          "metadata": {}
        },
        {
          "output_type": "execute_result",
          "execution_count": 27,
          "data": {
            "text/plain": "0/1 tests passed; 1 failed\n========\n__main__.test_output\n========\nTraceback (most recent call last):\n  File \"<string>\", line 8, in test_output\nAssertionError\n\nDuring handling of the above exception, another exception occurred:\n\nTraceback (most recent call last):\n  File \"/usr/lib/python3.6/unittest/case.py\", line 59, in testPartExecutor\n    yield\n  File \"/usr/lib/python3.6/unittest/case.py\", line 605, in run\n    testMethod()\n  File \"/usr/local/lib/python3.6/dist-packages/nose/case.py\", line 198, in runTest\n    self.test(*self.arg)\n  File \"<string>\", line 12, in test_output\nAssertionError: The results of the query are incorrect. Please review the instructions and check the hint if necessary.\n\n"
          },
          "metadata": {}
        }
      ]
    },
    {
      "metadata": {
        "dc": {
          "key": "52"
        },
        "deletable": false,
        "editable": false,
        "run_control": {
          "frozen": true
        },
        "tags": [
          "context"
        ],
        "id": "abq7QuPS4Nsq"
      },
      "cell_type": "markdown",
      "source": [
        "## 7. The highest amount of principal repayments\n",
        "<p>We can see that the indicator <code>DT.AMT.DLXF.CD</code> tops the chart of average debt. This category includes repayment of long term debts. Countries take on long-term debt to acquire immediate capital. More information about this category can be found <a href=\"https://datacatalog.worldbank.org/principal-repayments-external-debt-long-term-amt-current-us-0\">here</a>. </p>\n",
        "<p>An interesting observation in the above finding is that there is a huge difference in the amounts of the indicators after the second one. This indicates that the first two indicators might be the most severe categories in which the countries owe their debts.</p>\n",
        "<p>We can investigate this a bit more so as to find out which country owes the highest amount of debt in the category of long term debts (<code>DT.AMT.DLXF.CD</code>). Since not all the countries suffer from the same kind of economic disturbances, this finding will allow us to understand that particular country's economic condition a bit more specifically. </p>"
      ]
    },
    {
      "metadata": {
        "dc": {
          "key": "52"
        },
        "tags": [
          "sample_code"
        ],
        "id": "M9cyFgRK4Nss",
        "outputId": "0cb937b7-35e6-4294-a1cf-9504414f1b1b"
      },
      "cell_type": "code",
      "source": [
        "%%sql\n",
        "SELECT\n",
        "    country_name, \n",
        "    indicator_name\n",
        "FROM international_debt\n",
        "WHERE debt = (SELECT\n",
        "                 MAX(debt)\n",
        "             FROM international_debt\n",
        "             WHERE indicator_code = 'DT.AMT.DLXF.CD');"
      ],
      "execution_count": null,
      "outputs": [
        {
          "output_type": "stream",
          "text": " * postgresql:///international_debt\n1 rows affected.\n",
          "name": "stdout"
        },
        {
          "output_type": "execute_result",
          "execution_count": 28,
          "data": {
            "text/plain": "[('China', 'Principal repayments on external debt, long-term (AMT, current US$)')]",
            "text/html": "<table>\n    <tr>\n        <th>country_name</th>\n        <th>indicator_name</th>\n    </tr>\n    <tr>\n        <td>China</td>\n        <td>Principal repayments on external debt, long-term (AMT, current US$)</td>\n    </tr>\n</table>"
          },
          "metadata": {}
        }
      ]
    },
    {
      "metadata": {
        "dc": {
          "key": "52"
        },
        "tags": [
          "tests"
        ],
        "hide": true,
        "id": "fQRgVgMF4Nsu",
        "outputId": "9203aa01-7ba9-49e9-e0af-5cc6f176c5ba"
      },
      "cell_type": "code",
      "source": [
        "%%nose\n",
        "# %%nose needs to be included at the beginning of every @tests cell\n",
        "\n",
        "last_output = _\n",
        "\n",
        "def test_output():\n",
        "    correct_result_string = '  country_name                                     indicator_name\\n0        China  Principal repayments on external debt, long-te...'\n",
        "    try:\n",
        "        assert last_output.DataFrame().to_string() == correct_result_string\n",
        "    except AttributeError:\n",
        "        assert False, \"Please ensure a SQL ResultSet is the output of the code cell.\"\n",
        "    except AssertionError:\n",
        "        assert False, \"The results of the query are incorrect. Please review the instructions and check the hint if necessary.\""
      ],
      "execution_count": null,
      "outputs": [
        {
          "output_type": "display_data",
          "data": {
            "application/json": "{\"success\": true, \"summary\": {\"tests\": 1, \"failures\": 0, \"errors\": 0}, \"tests\": [{\"name\": \"__main__.test_output\", \"success\": true, \"message\": \"\"}]}"
          },
          "metadata": {}
        },
        {
          "output_type": "execute_result",
          "execution_count": 29,
          "data": {
            "text/plain": "1/1 tests passed\n"
          },
          "metadata": {}
        }
      ]
    },
    {
      "metadata": {
        "dc": {
          "key": "60"
        },
        "deletable": false,
        "editable": false,
        "run_control": {
          "frozen": true
        },
        "tags": [
          "context"
        ],
        "id": "Qr-c5qTN4Nsv"
      },
      "cell_type": "markdown",
      "source": [
        "## 8. The most common debt indicator\n",
        "<p>China has the highest amount of debt in the long-term debt (<code>DT.AMT.DLXF.CD</code>) category. This is verified by <a href=\"https://data.worldbank.org/indicator/DT.AMT.DLXF.CD?end=2018&most_recent_value_desc=true\">The World Bank</a>. It is often a good idea to verify our analyses like this since it validates that our investigations are correct. </p>\n",
        "<p>We saw that long-term debt is the topmost category when it comes to the average amount of debt. But is it the most common indicator in which the countries owe their debt? Let's find that out. </p>"
      ]
    },
    {
      "metadata": {
        "dc": {
          "key": "60"
        },
        "tags": [
          "sample_code"
        ],
        "id": "bLr_jZ004Nsw",
        "outputId": "931bf060-4131-4662-add9-67035758b96a"
      },
      "cell_type": "code",
      "source": [
        "%%sql\n",
        "SELECT \n",
        "    indicator_code,\n",
        "    COUNT(indicator_code) AS indicator_count\n",
        "FROM international_debt\n",
        "GROUP BY indicator_code\n",
        "ORDER BY indicator_count DESC\n",
        "LIMIT 20;"
      ],
      "execution_count": null,
      "outputs": [
        {
          "output_type": "stream",
          "text": " * postgresql:///international_debt\n20 rows affected.\n",
          "name": "stdout"
        },
        {
          "output_type": "execute_result",
          "execution_count": 30,
          "data": {
            "text/plain": "[('DT.INT.MLAT.CD', 124),\n ('DT.AMT.OFFT.CD', 124),\n ('DT.INT.DLXF.CD', 124),\n ('DT.AMT.MLAT.CD', 124),\n ('DT.AMT.DLXF.CD', 124),\n ('DT.INT.OFFT.CD', 124),\n ('DT.DIS.DLXF.CD', 123),\n ('DT.DIS.OFFT.CD', 122),\n ('DT.INT.BLAT.CD', 122),\n ('DT.AMT.BLAT.CD', 122),\n ('DT.DIS.MLAT.CD', 120),\n ('DT.DIS.BLAT.CD', 113),\n ('DT.INT.PRVT.CD', 98),\n ('DT.AMT.PRVT.CD', 98),\n ('DT.AMT.PCBK.CD', 84),\n ('DT.INT.PCBK.CD', 84),\n ('DT.INT.DPNG.CD', 79),\n ('DT.AMT.DPNG.CD', 79),\n ('DT.INT.PBND.CD', 69),\n ('DT.AMT.PBND.CD', 69)]",
            "text/html": "<table>\n    <tr>\n        <th>indicator_code</th>\n        <th>indicator_count</th>\n    </tr>\n    <tr>\n        <td>DT.INT.MLAT.CD</td>\n        <td>124</td>\n    </tr>\n    <tr>\n        <td>DT.AMT.OFFT.CD</td>\n        <td>124</td>\n    </tr>\n    <tr>\n        <td>DT.INT.DLXF.CD</td>\n        <td>124</td>\n    </tr>\n    <tr>\n        <td>DT.AMT.MLAT.CD</td>\n        <td>124</td>\n    </tr>\n    <tr>\n        <td>DT.AMT.DLXF.CD</td>\n        <td>124</td>\n    </tr>\n    <tr>\n        <td>DT.INT.OFFT.CD</td>\n        <td>124</td>\n    </tr>\n    <tr>\n        <td>DT.DIS.DLXF.CD</td>\n        <td>123</td>\n    </tr>\n    <tr>\n        <td>DT.DIS.OFFT.CD</td>\n        <td>122</td>\n    </tr>\n    <tr>\n        <td>DT.INT.BLAT.CD</td>\n        <td>122</td>\n    </tr>\n    <tr>\n        <td>DT.AMT.BLAT.CD</td>\n        <td>122</td>\n    </tr>\n    <tr>\n        <td>DT.DIS.MLAT.CD</td>\n        <td>120</td>\n    </tr>\n    <tr>\n        <td>DT.DIS.BLAT.CD</td>\n        <td>113</td>\n    </tr>\n    <tr>\n        <td>DT.INT.PRVT.CD</td>\n        <td>98</td>\n    </tr>\n    <tr>\n        <td>DT.AMT.PRVT.CD</td>\n        <td>98</td>\n    </tr>\n    <tr>\n        <td>DT.AMT.PCBK.CD</td>\n        <td>84</td>\n    </tr>\n    <tr>\n        <td>DT.INT.PCBK.CD</td>\n        <td>84</td>\n    </tr>\n    <tr>\n        <td>DT.INT.DPNG.CD</td>\n        <td>79</td>\n    </tr>\n    <tr>\n        <td>DT.AMT.DPNG.CD</td>\n        <td>79</td>\n    </tr>\n    <tr>\n        <td>DT.INT.PBND.CD</td>\n        <td>69</td>\n    </tr>\n    <tr>\n        <td>DT.AMT.PBND.CD</td>\n        <td>69</td>\n    </tr>\n</table>"
          },
          "metadata": {}
        }
      ]
    },
    {
      "metadata": {
        "dc": {
          "key": "60"
        },
        "tags": [
          "tests"
        ],
        "hide": true,
        "id": "gtpNYw6V4Nsx",
        "outputId": "ef461933-9250-4b05-b107-2e0a38ae5fa3"
      },
      "cell_type": "code",
      "source": [
        "%%nose\n",
        "# %%nose needs to be included at the beginning of every @tests cell\n",
        "\n",
        "last_output = _\n",
        "\n",
        "def test_output():\n",
        "    correct_result_string = '    indicator_code  indicator_count\\n0   DT.INT.OFFT.CD              124\\n1   DT.INT.MLAT.CD              124\\n2   DT.INT.DLXF.CD              124\\n3   DT.AMT.OFFT.CD              124\\n4   DT.AMT.MLAT.CD              124\\n5   DT.AMT.DLXF.CD              124\\n6   DT.DIS.DLXF.CD              123\\n7   DT.INT.BLAT.CD              122\\n8   DT.DIS.OFFT.CD              122\\n9   DT.AMT.BLAT.CD              122\\n10  DT.DIS.MLAT.CD              120\\n11  DT.DIS.BLAT.CD              113\\n12  DT.INT.PRVT.CD               98\\n13  DT.AMT.PRVT.CD               98\\n14  DT.INT.PCBK.CD               84\\n15  DT.AMT.PCBK.CD               84\\n16  DT.INT.DPNG.CD               79\\n17  DT.AMT.DPNG.CD               79\\n18  DT.INT.PBND.CD               69\\n19  DT.AMT.PBND.CD               69'\n",
        "    try:\n",
        "        assert last_output.DataFrame().to_string() == correct_result_string\n",
        "    except AttributeError:\n",
        "        assert False, \"Please ensure a SQL ResultSet is the output of the code cell.\"\n",
        "    except AssertionError:\n",
        "        assert False, \"The results of the query are incorrect. Please review the instructions and check the hint if necessary.\""
      ],
      "execution_count": null,
      "outputs": [
        {
          "output_type": "display_data",
          "data": {
            "application/json": "{\"success\": false, \"summary\": {\"tests\": 1, \"failures\": 1, \"errors\": 0}, \"tests\": [{\"name\": \"__main__.test_output\", \"success\": false, \"message\": \"AssertionError: The results of the query are incorrect. Please review the instructions and check the hint if necessary.\\n\"}]}"
          },
          "metadata": {}
        },
        {
          "output_type": "execute_result",
          "execution_count": 31,
          "data": {
            "text/plain": "0/1 tests passed; 1 failed\n========\n__main__.test_output\n========\nTraceback (most recent call last):\n  File \"<string>\", line 8, in test_output\nAssertionError\n\nDuring handling of the above exception, another exception occurred:\n\nTraceback (most recent call last):\n  File \"/usr/lib/python3.6/unittest/case.py\", line 59, in testPartExecutor\n    yield\n  File \"/usr/lib/python3.6/unittest/case.py\", line 605, in run\n    testMethod()\n  File \"/usr/local/lib/python3.6/dist-packages/nose/case.py\", line 198, in runTest\n    self.test(*self.arg)\n  File \"<string>\", line 12, in test_output\nAssertionError: The results of the query are incorrect. Please review the instructions and check the hint if necessary.\n\n"
          },
          "metadata": {}
        }
      ]
    },
    {
      "metadata": {
        "dc": {
          "key": "68"
        },
        "deletable": false,
        "editable": false,
        "run_control": {
          "frozen": true
        },
        "tags": [
          "context"
        ],
        "id": "RX8iu62c4Nsy"
      },
      "cell_type": "markdown",
      "source": [
        "## 9. Other viable debt issues and conclusion\n",
        "<p>There are a total of six debt indicators in which all the countries listed in our dataset have taken debt. The indicator <code>DT.AMT.DLXF.CD</code> is also there in the list. So, this gives us a clue that all these countries are suffering from a common economic issue. But that is not the end of the story, but just a part of the story.</p>\n",
        "<p>Let's change tracks from <code>debt_indicator</code>s now and focus on the amount of debt again. Let's find out the maximum amount of debt that each country has. With this, we will be in a position to identify the other plausible economic issues a country might be going through.</p>\n",
        "<p>In this notebook, we took a look at debt owed by countries across the globe. We extracted a few summary statistics from the data and unraveled some interesting facts and figures. We also validated our findings to make sure the investigations are correct.</p>"
      ]
    },
    {
      "metadata": {
        "dc": {
          "key": "68"
        },
        "tags": [
          "sample_code"
        ],
        "id": "lwDaLe3f4Nsz",
        "outputId": "833d707c-7e7e-4361-95e5-32f871f5ae6c"
      },
      "cell_type": "code",
      "source": [
        "%%sql\n",
        "SELECT\n",
        "    country_name,\n",
        "    MAX(debt) AS maximum_debt\n",
        "FROM international_debt\n",
        "GROUP BY country_name\n",
        "ORDER BY maximum_debt DESC\n",
        "LIMIT 10;\n"
      ],
      "execution_count": null,
      "outputs": [
        {
          "output_type": "stream",
          "text": " * postgresql:///international_debt\n10 rows affected.\n",
          "name": "stdout"
        },
        {
          "output_type": "execute_result",
          "execution_count": 32,
          "data": {
            "text/plain": "[('China', Decimal('96218620835.699996948')),\n ('Brazil', Decimal('90041840304.100006104')),\n ('Russian Federation', Decimal('66589761833.5')),\n ('Turkey', Decimal('51555031005.800003052')),\n ('South Asia', Decimal('48756295898.199996948')),\n ('Least developed countries: UN classification', Decimal('40160766261.599998474')),\n ('IDA only', Decimal('34531188113.199996948')),\n ('India', Decimal('31923507000.799999237')),\n ('Indonesia', Decimal('30916112653.799999237')),\n ('Kazakhstan', Decimal('27482093686.400001526'))]",
            "text/html": "<table>\n    <tr>\n        <th>country_name</th>\n        <th>maximum_debt</th>\n    </tr>\n    <tr>\n        <td>China</td>\n        <td>96218620835.699996948</td>\n    </tr>\n    <tr>\n        <td>Brazil</td>\n        <td>90041840304.100006104</td>\n    </tr>\n    <tr>\n        <td>Russian Federation</td>\n        <td>66589761833.5</td>\n    </tr>\n    <tr>\n        <td>Turkey</td>\n        <td>51555031005.800003052</td>\n    </tr>\n    <tr>\n        <td>South Asia</td>\n        <td>48756295898.199996948</td>\n    </tr>\n    <tr>\n        <td>Least developed countries: UN classification</td>\n        <td>40160766261.599998474</td>\n    </tr>\n    <tr>\n        <td>IDA only</td>\n        <td>34531188113.199996948</td>\n    </tr>\n    <tr>\n        <td>India</td>\n        <td>31923507000.799999237</td>\n    </tr>\n    <tr>\n        <td>Indonesia</td>\n        <td>30916112653.799999237</td>\n    </tr>\n    <tr>\n        <td>Kazakhstan</td>\n        <td>27482093686.400001526</td>\n    </tr>\n</table>"
          },
          "metadata": {}
        }
      ]
    },
    {
      "metadata": {
        "dc": {
          "key": "68"
        },
        "tags": [
          "tests"
        ],
        "hide": true,
        "id": "bliVvx6h4Ns0",
        "outputId": "631091f8-caad-4de2-d852-0853b5c1f7bd"
      },
      "cell_type": "code",
      "source": [
        "%%nose\n",
        "# %%nose needs to be included at the beginning of every @tests cell\n",
        "\n",
        "last_output = _\n",
        "\n",
        "def test_output():\n",
        "    correct_result_string = '                                   country_name           maximum_debt\\n0                                         China  96218620835.699996948\\n1                                        Brazil  90041840304.100006104\\n2                            Russian Federation          66589761833.5\\n3                                        Turkey  51555031005.800003052\\n4                                    South Asia  48756295898.199996948\\n5  Least developed countries: UN classification  40160766261.599998474\\n6                                      IDA only  34531188113.199996948\\n7                                         India  31923507000.799999237\\n8                                     Indonesia  30916112653.799999237\\n9                                    Kazakhstan  27482093686.400001526'\n",
        "    try:\n",
        "        assert last_output.DataFrame().to_string() == correct_result_string\n",
        "    except AttributeError:\n",
        "        assert False, \"Please ensure a SQL ResultSet is the output of the code cell.\"\n",
        "    except AssertionError:\n",
        "        assert False, \"The results of the query are incorrect. Please review the instructions and check the hint if necessary.\""
      ],
      "execution_count": null,
      "outputs": [
        {
          "output_type": "display_data",
          "data": {
            "application/json": "{\"success\": true, \"summary\": {\"tests\": 1, \"failures\": 0, \"errors\": 0}, \"tests\": [{\"name\": \"__main__.test_output\", \"success\": true, \"message\": \"\"}]}"
          },
          "metadata": {}
        },
        {
          "output_type": "execute_result",
          "execution_count": 33,
          "data": {
            "text/plain": "1/1 tests passed\n"
          },
          "metadata": {}
        }
      ]
    }
  ],
  "metadata": {
    "kernelspec": {
      "name": "python3",
      "display_name": "Python 3",
      "language": "python"
    },
    "language_info": {
      "name": "python",
      "version": "3.6.7",
      "mimetype": "text/x-python",
      "codemirror_mode": {
        "name": "ipython",
        "version": 3
      },
      "pygments_lexer": "ipython3",
      "nbconvert_exporter": "python",
      "file_extension": ".py"
    },
    "colab": {
      "name": "notebook.ipynb",
      "provenance": [],
      "include_colab_link": true
    }
  },
  "nbformat": 4,
  "nbformat_minor": 0
}